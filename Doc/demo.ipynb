{
 "cells": [
  {
   "cell_type": "code",
   "execution_count": null,
   "metadata": {},
   "outputs": [],
   "source": [
    "import os\n",
    "import numpy as np\n",
    "import pandas as pd\n",
    "import numpy_indexed as npi\n",
    "from tqdm import tqdm"
   ]
  },
  {
   "cell_type": "code",
   "execution_count": null,
   "metadata": {},
   "outputs": [],
   "source": [
    "def normalize(x,ma,mi,ran=255):       \n",
    "    x[x!=0]=(x[x!=0]-mi)/(ma-mi)*ran\n",
    "    return x"
   ]
  },
  {
   "cell_type": "code",
   "execution_count": null,
   "metadata": {},
   "outputs": [],
   "source": [
    "def gaussian_mix_spectrum_by_file(src, sigma, dis_type, v2='False'):\n",
    "\n",
    "    assert dis_type in ['elec','norm']\n",
    "    if dis_type == 'elec':\n",
    "        n_combo=50;nf=50;y_start=0;y_end=1;ngrid=50;x_start=0;x_end=25;sigma=sigma\n",
    "    if dis_type == 'norm':\n",
    "        n_combo=36;nf=50;y_start=0;y_end=50;ngrid=50;x_start=0;x_end=25;sigma=sigma\n",
    "\n",
    "    src_x = np.loadtxt(src)\n",
    "    if v2:\n",
    "        # nf=100;y_start=0;y_end=50\n",
    "        src2 = src.replace('.txt', '_p2.txt')\n",
    "        src_x = np.vstack([np.loadtxt(src), np.loadtxt(src2)])\n",
    "\n",
    "    xt=np.linspace(x_start, x_end, num=50, endpoint=False)\n",
    "    yt=np.linspace(y_start, y_end, num=50, endpoint=False)\n",
    "    x_ins = np.digitize(src_x[:,3], xt)\n",
    "    y_ins = np.digitize(src_x[:,2], yt)\n",
    "\n",
    "    df = pd.DataFrame(src_x, columns=['combo ID','betti','ys','xs'])\n",
    "    df['y_ins'] = y_ins\n",
    "    df['x_ins'] = x_ins\n",
    "\n",
    "    combo_vals = np.zeros((n_combo,ngrid,nf))\n",
    "    for name,mf in df.groupby('combo ID'):\n",
    "        val = np.tile(xt,(len(mf),1))\n",
    "        val = np.square((val-mf['xs'].values.reshape(-1,1)))/(2*sigma**2)\n",
    "        val = pd.DataFrame(np.exp(-val))\n",
    "        # val = val.groupby(mf['y_ins'].tolist()).sum().reindex(range(nf)).fillna(0)\n",
    "        ind, val = npi.group_by(mf['y_ins']).sum(val)\n",
    "        mf_val = pd.DataFrame(val,index=ind).reindex(range(50)).fillna(0).values\n",
    "        # my_vals.append(mf_val)\n",
    "        combo_vals[int(name-1),:,:] = normalize(mf_val,mf_val.max(),mf_val.min())\n",
    "\n",
    "    return combo_vals"
   ]
  },
  {
   "cell_type": "markdown",
   "metadata": {},
   "source": [
    "# Demo on 2013"
   ]
  },
  {
   "cell_type": "markdown",
   "metadata": {},
   "source": [
    "## Norm"
   ]
  },
  {
   "cell_type": "code",
   "execution_count": null,
   "metadata": {},
   "outputs": [],
   "source": [
    "src = './PDB_data/'\n",
    "train_2013 = [line.strip() for line in open(src+'train_2013.txt')] \n",
    "test_2013 = [line.strip() for line in open(src+'core_2013.txt')] "
   ]
  },
  {
   "cell_type": "code",
   "execution_count": null,
   "metadata": {},
   "outputs": [],
   "source": [
    "sigma = 1.5 #change sigma 0.2 0.5 1 1.5 2 5 10\n",
    "n_combo = 36\n",
    "\n",
    "root = './PDB_data/2013_normDist'\n",
    "tardir = root.replace('PDB_data', 'Temp_tensor')+f'_sigma_{sigma}'\n",
    "\n",
    "if not os.path.exists(tardir):\n",
    "    os.makedirs(tardir)"
   ]
  },
  {
   "cell_type": "code",
   "execution_count": null,
   "metadata": {},
   "outputs": [],
   "source": [
    "files = [x for x in os.listdir(root) if x.endswith('eigv.txt')]\n",
    "\n",
    "files_sorted = sorted(files,key=lambda x:(train_2013+test_2013).index(x.split('_')[0]))"
   ]
  },
  {
   "cell_type": "code",
   "execution_count": null,
   "metadata": {},
   "outputs": [],
   "source": [
    "tensor_2013_norm = np.zeros((len(files_sorted),n_combo,50,50))\n",
    "for i,file in tqdm(enumerate(files_sorted)):\n",
    "    img = gaussian_mix_spectrum_by_file(root+'/'+file, sigma, 'norm', v2=False)\n",
    "    tensor_2013_norm[i,:,:,:] = img\n",
    "np.save(tardir+'/'+'tensor_2013_norm.npy',tensor_2013_norm)                  "
   ]
  },
  {
   "cell_type": "markdown",
   "metadata": {},
   "source": [
    "## Elec"
   ]
  },
  {
   "cell_type": "code",
   "execution_count": null,
   "metadata": {},
   "outputs": [],
   "source": [
    "sigma = 1.5 #change sigma 0.2 0.5 1 1.5 2 5 10\n",
    "n_combo = 50\n",
    "\n",
    "root = './PDB_data/2013_elecDist'\n",
    "tardir = root.replace('PDB_data', 'Temp_tensor')+f'_sigma_{sigma}'\n",
    "\n",
    "if not os.path.exists(tardir):\n",
    "    os.makedirs(tardir)"
   ]
  },
  {
   "cell_type": "code",
   "execution_count": null,
   "metadata": {},
   "outputs": [],
   "source": [
    "files = [x for x in os.listdir(root) if x.endswith('eigv_2.txt')]\n",
    "\n",
    "files_sorted = sorted(files,key=lambda x:(train_2013+test_2013).index(x.split('_')[0]))"
   ]
  },
  {
   "cell_type": "code",
   "execution_count": null,
   "metadata": {},
   "outputs": [],
   "source": [
    "tensor_2013_elec = np.zeros((len(files_sorted),n_combo,50,50))\n",
    "for i,file in tqdm(enumerate(files_sorted)):\n",
    "    img = gaussian_mix_spectrum_by_file(root+'/'+file, sigma, 'elec', v2=False)\n",
    "    tensor_2013_elec[i,:,:,:] =img\n",
    "np.save(tardir+'/'+'tensor_2013_elec.npy',tensor_2013_elec)        "
   ]
  },
  {
   "cell_type": "markdown",
   "metadata": {},
   "source": [
    "# Demo on 2016"
   ]
  },
  {
   "cell_type": "markdown",
   "metadata": {},
   "source": [
    "## Norm"
   ]
  },
  {
   "cell_type": "code",
   "execution_count": null,
   "metadata": {},
   "outputs": [],
   "source": [
    "src = './PDB_data/'\n",
    "train_2016 = [line.strip() for line in open(src+'train_2016.txt')] \n",
    "test_2016 = [line.strip() for line in open(src+'core_2016.txt')] "
   ]
  },
  {
   "cell_type": "code",
   "execution_count": null,
   "metadata": {},
   "outputs": [],
   "source": [
    "sigma = 1.5 #change sigma 0.2 0.5 1 1.5 2 5 10\n",
    "n_combo = 36\n",
    "\n",
    "root = './PDB_data/2016_normDist'\n",
    "tardir = root.replace('PDB_data', 'Temp_tensor')+f'_sigma_{sigma}'\n",
    "\n",
    "if not os.path.exists(tardir):\n",
    "    os.makedirs(tardir)"
   ]
  },
  {
   "cell_type": "code",
   "execution_count": null,
   "metadata": {},
   "outputs": [],
   "source": [
    "files = [x for x in os.listdir(root) if x.endswith('eigv.txt')]\n",
    "\n",
    "files_sorted = sorted(files,key=lambda x:(train_2016+test_2016).index(x.split('_')[0]))"
   ]
  },
  {
   "cell_type": "code",
   "execution_count": null,
   "metadata": {},
   "outputs": [],
   "source": [
    "tensor_2016_norm = np.zeros((len(files_sorted),n_combo,50,50))\n",
    "for i,file in tqdm(enumerate(files_sorted)):\n",
    "    img = gaussian_mix_spectrum_by_file(root+'/'+file, sigma, 'norm', v2=False)\n",
    "    tensor_2016_norm[i,:,:,:] = img\n",
    "np.save(tardir+'/'+'tensor_2016_norm.npy',tensor_2016_norm)                  "
   ]
  },
  {
   "cell_type": "markdown",
   "metadata": {},
   "source": [
    "## Elec"
   ]
  },
  {
   "cell_type": "code",
   "execution_count": null,
   "metadata": {},
   "outputs": [],
   "source": [
    "sigma = 1.5 #change sigma 0.2 0.5 1 1.5 2 5 10\n",
    "n_combo = 50\n",
    "\n",
    "root = './PDB_data/2016_elecDist'\n",
    "tardir = root.replace('PDB_data', 'Temp_tensor')+f'_sigma_{sigma}'\n",
    "\n",
    "if not os.path.exists(tardir):\n",
    "    os.makedirs(tardir)"
   ]
  },
  {
   "cell_type": "code",
   "execution_count": null,
   "metadata": {},
   "outputs": [],
   "source": [
    "files = [x for x in os.listdir(root) if x.endswith('eigv_2.txt')]\n",
    "\n",
    "files_sorted = sorted(files,key=lambda x:(train_2016+test_2016).index(x.split('_')[0]))"
   ]
  },
  {
   "cell_type": "code",
   "execution_count": null,
   "metadata": {},
   "outputs": [],
   "source": [
    "tensor_2016_elec = np.zeros((len(files_sorted),n_combo,50,50))\n",
    "for i,file in tqdm(enumerate(files_sorted)):\n",
    "    img = gaussian_mix_spectrum_by_file(root+'/'+file, sigma, 'elec', v2=False)\n",
    "    tensor_2016_elec[i,:,:,:] =img\n",
    "np.save(tardir+'/'+'tensor_2016_elec.npy',tensor_2016_elec)        "
   ]
  }
 ],
 "metadata": {
  "kernelspec": {
   "display_name": "Python 3.7.7 64-bit ('base': conda)",
   "language": "python",
   "name": "python37764bitbaseconda2a6a9f186a4d495d885a2126c562b666"
  },
  "language_info": {
   "codemirror_mode": {
    "name": "ipython",
    "version": 3
   },
   "file_extension": ".py",
   "mimetype": "text/x-python",
   "name": "python",
   "nbconvert_exporter": "python",
   "pygments_lexer": "ipython3",
   "version": "3.7.7"
  }
 },
 "nbformat": 4,
 "nbformat_minor": 4
}
